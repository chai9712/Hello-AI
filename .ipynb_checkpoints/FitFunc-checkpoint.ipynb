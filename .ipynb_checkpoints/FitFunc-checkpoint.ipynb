{
 "cells": [
  {
   "cell_type": "code",
   "execution_count": 426,
   "metadata": {},
   "outputs": [],
   "source": [
    "import numpy as np\n",
    "import matplotlib.pyplot as plt\n",
    "import tensorflow as tf\n",
    "from time import time\n",
    "% matplotlib inline"
   ]
  },
  {
   "cell_type": "code",
   "execution_count": 427,
   "metadata": {},
   "outputs": [],
   "source": [
    "# y = x^3-5\n",
    "x = np.linspace(1,800,50)\n",
    "y = -x**3 + 500*x**2 - 5\n",
    "\n",
    "xmean = x.mean()\n",
    "xstd = x.std()\n",
    "# print(xmean,xstd)\n",
    "\n",
    "ymean = y.mean()\n",
    "ystd = y.std()\n",
    "# print(ymean,ystd)\n",
    "\n",
    "x = x.reshape((-1,1))\n",
    "y = y.reshape((-1,1))"
   ]
  },
  {
   "cell_type": "code",
   "execution_count": 428,
   "metadata": {
    "collapsed": true
   },
   "outputs": [],
   "source": [
    "def layer(inputs, input_dim, output_dim, activate = None):\n",
    "    W = tf.Variable(tf.truncated_normal([input_dim,output_dim],stddev = 0.1))\n",
    "    b = tf.Variable(tf.zeros([output_dim]))\n",
    "    XWB = tf.matmul(inputs,W) + b\n",
    "    if activate == None:\n",
    "        outputs = XWB\n",
    "    else:\n",
    "        outputs = activate(XWB)\n",
    "    return outputs"
   ]
  },
  {
   "cell_type": "code",
   "execution_count": 429,
   "metadata": {},
   "outputs": [],
   "source": [
    "learning_rate = 0.01\n",
    "epochs = 50000\n",
    "show_loss = 5000\n",
    "\n",
    "X = tf.placeholder(tf.float32, shape=(None,1), name='X')\n",
    "Y = tf.placeholder(tf.float32, shape=(None,1), name='Y')\n",
    "h1 = layer(inputs=(X-xmean)/xstd , input_dim=1, output_dim=3, activate=tf.nn.tanh)\n",
    "h2 = layer(inputs=h1, input_dim=3, output_dim=3, activate=tf.nn.tanh)\n",
    "h3 = layer(inputs=h2, input_dim=3, output_dim=20, activate=tf.nn.relu)\n",
    "forward = layer(inputs=h3, input_dim=20, output_dim=1)\n",
    "pred = forward * ystd + ymean\n",
    "loss_func = tf.reduce_mean(tf.square(forward-(Y-ymean)/ystd))\n",
    "optimizer = tf.train.AdamOptimizer(learning_rate).minimize(loss_func)\n",
    "sess = tf.Session()\n",
    "\n",
    "init = tf.global_variables_initializer()\n",
    "sess.run(init)\n",
    "\n",
    "i = 1.0"
   ]
  },
  {
   "cell_type": "code",
   "execution_count": 430,
   "metadata": {
    "scrolled": true
   },
   "outputs": [
    {
     "name": "stdout",
     "output_type": "stream",
     "text": [
      "[0.9977861]\n",
      "[4.503951e-05]\n",
      "[3.4057328e-05]\n",
      "[2.829287e-05]\n",
      "[2.7936423e-05]\n",
      "[2.7528564e-05]\n",
      "[2.8015998e-05]\n",
      "[2.8917302e-05]\n",
      "[2.8173994e-05]\n",
      "[3.9091665e-05]\n"
     ]
    },
    {
     "data": {
      "image/png": "[encoded data removed]",
      "text/plain": [
       "<matplotlib.figure.Figure at 0x2720b710eb8>"
      ]
     },
     "metadata": {},
     "output_type": "display_data"
    },
    {
     "name": "stdout",
     "output_type": "stream",
     "text": [
      "Time = 52.47556138038635\n"
     ]
    }
   ],
   "source": [
    "startTime = time()\n",
    "for epoch in range(epochs):\n",
    "    sess.run(optimizer, feed_dict = {X:x, Y:y})\n",
    "    loss = sess.run([loss_func],feed_dict = {X:x,Y:y})\n",
    "    if epoch % show_loss == 0:\n",
    "        print(loss)\n",
    "Y_p = sess.run(pred,feed_dict={X:x})\n",
    "plt.plot(x,y,'r*')\n",
    "plt.plot(x,Y_p,'b-')\n",
    "plt.show()\n",
    "print(\"Time =\",time()-startTime)"
   ]
  },
  {
   "cell_type": "code",
   "execution_count": 433,
   "metadata": {},
   "outputs": [
    {
     "name": "stdout",
     "output_type": "stream",
     "text": [
      "[[-2.7796202e+08]\n",
      " [ 1.2698826e+07]]\n",
      "-324000005 12942995\n"
     ]
    }
   ],
   "source": [
    "print(sess.run(pred, feed_dict={X:[[900],[430]]}))\n",
    "print(-900**3 + 500*900**2 - 5,-430**3 + 500*430**2 - 5)"
   ]
  },
  {
   "cell_type": "code",
   "execution_count": null,
   "metadata": {
    "collapsed": true
   },
   "outputs": [],
   "source": []
  }
 ],
 "metadata": {
  "kernelspec": {
   "display_name": "Python 3",
   "language": "python",
   "name": "python3"
  },
  "language_info": {
   "codemirror_mode": {
    "name": "ipython",
    "version": 3
   },
   "file_extension": ".py",
   "mimetype": "text/x-python",
   "name": "python",
   "nbconvert_exporter": "python",
   "pygments_lexer": "ipython3",
   "version": "3.6.1"
  }
 },
 "nbformat": 4,
 "nbformat_minor": 2
}
