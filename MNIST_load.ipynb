{
 "cells": [
  {
   "cell_type": "code",
   "execution_count": 1,
   "metadata": {},
   "outputs": [
    {
     "name": "stderr",
     "output_type": "stream",
     "text": [
      "E:\\python\\python_install\\lib\\site-packages\\h5py\\__init__.py:34: FutureWarning: Conversion of the second argument of issubdtype from `float` to `np.floating` is deprecated. In future, it will be treated as `np.float64 == np.dtype(float).type`.\n",
      "  from ._conv import register_converters as _register_converters\n"
     ]
    }
   ],
   "source": [
    "import tensorflow as tf\n",
    "import tensorflow.examples.tutorials.mnist.input_data as input_data\n",
    "import os\n",
    "def fcn_layer(inputs,\n",
    "             input_dim,\n",
    "             output_dim,\n",
    "             activation=None):\n",
    "    W = tf.Variable(tf.truncated_normal([input_dim, output_dim], stddev=0.1))\n",
    "    b = tf.Variable(tf.zeros([output_dim]))\n",
    "    XWB = tf.matmul(inputs, W) + b\n",
    "    if activation == None:\n",
    "        outputs = XWB\n",
    "    else:\n",
    "        outputs = activation(XWB)\n",
    "    return outputs"
   ]
  },
  {
   "cell_type": "code",
   "execution_count": 2,
   "metadata": {},
   "outputs": [
    {
     "name": "stdout",
     "output_type": "stream",
     "text": [
      "WARNING:tensorflow:From <ipython-input-2-0df51fa4852f>:1: read_data_sets (from tensorflow.contrib.learn.python.learn.datasets.mnist) is deprecated and will be removed in a future version.\n",
      "Instructions for updating:\n",
      "Please use alternatives such as official/mnist/dataset.py from tensorflow/models.\n",
      "WARNING:tensorflow:From E:\\python\\python_install\\lib\\site-packages\\tensorflow\\contrib\\learn\\python\\learn\\datasets\\mnist.py:260: maybe_download (from tensorflow.contrib.learn.python.learn.datasets.base) is deprecated and will be removed in a future version.\n",
      "Instructions for updating:\n",
      "Please write your own downloading logic.\n",
      "WARNING:tensorflow:From E:\\python\\python_install\\lib\\site-packages\\tensorflow\\contrib\\learn\\python\\learn\\datasets\\mnist.py:262: extract_images (from tensorflow.contrib.learn.python.learn.datasets.mnist) is deprecated and will be removed in a future version.\n",
      "Instructions for updating:\n",
      "Please use tf.data to implement this functionality.\n",
      "Extracting MNIST_data/train-images-idx3-ubyte.gz\n",
      "WARNING:tensorflow:From E:\\python\\python_install\\lib\\site-packages\\tensorflow\\contrib\\learn\\python\\learn\\datasets\\mnist.py:267: extract_labels (from tensorflow.contrib.learn.python.learn.datasets.mnist) is deprecated and will be removed in a future version.\n",
      "Instructions for updating:\n",
      "Please use tf.data to implement this functionality.\n",
      "Extracting MNIST_data/train-labels-idx1-ubyte.gz\n",
      "WARNING:tensorflow:From E:\\python\\python_install\\lib\\site-packages\\tensorflow\\contrib\\learn\\python\\learn\\datasets\\mnist.py:110: dense_to_one_hot (from tensorflow.contrib.learn.python.learn.datasets.mnist) is deprecated and will be removed in a future version.\n",
      "Instructions for updating:\n",
      "Please use tf.one_hot on tensors.\n",
      "Extracting MNIST_data/t10k-images-idx3-ubyte.gz\n",
      "Extracting MNIST_data/t10k-labels-idx1-ubyte.gz\n",
      "WARNING:tensorflow:From E:\\python\\python_install\\lib\\site-packages\\tensorflow\\contrib\\learn\\python\\learn\\datasets\\mnist.py:290: DataSet.__init__ (from tensorflow.contrib.learn.python.learn.datasets.mnist) is deprecated and will be removed in a future version.\n",
      "Instructions for updating:\n",
      "Please use alternatives such as official/mnist/dataset.py from tensorflow/models.\n"
     ]
    }
   ],
   "source": [
    "mnist = input_data.read_data_sets(\"MNIST_data/\", one_hot=True)\n",
    "\n",
    "H1_NN = 256\n",
    "H2_NN = 32\n",
    "\n",
    "x = tf.placeholder(tf.float32, [None, 784], name=\"X\")\n",
    "y = tf.placeholder(tf.float32, [None, 10], name=\"Y\")\n",
    "\n",
    "h1 = fcn_layer(inputs=x,\n",
    "              input_dim=784,\n",
    "              output_dim=H1_NN,\n",
    "              activation=tf.nn.relu)\n",
    "h2 = fcn_layer(inputs=h1,\n",
    "              input_dim=H1_NN,\n",
    "              output_dim=H2_NN,\n",
    "              activation=tf.nn.relu)\n",
    "forward = fcn_layer(inputs=h2,\n",
    "                   input_dim=H2_NN,\n",
    "                   output_dim=10)\n",
    "pred = tf.nn.softmax(forward)"
   ]
  },
  {
   "cell_type": "code",
   "execution_count": 3,
   "metadata": {},
   "outputs": [
    {
     "name": "stdout",
     "output_type": "stream",
     "text": [
      "WARNING:tensorflow:From <ipython-input-3-b0b9bab96d41>:2: softmax_cross_entropy_with_logits (from tensorflow.python.ops.nn_ops) is deprecated and will be removed in a future version.\n",
      "Instructions for updating:\n",
      "\n",
      "Future major versions of TensorFlow will allow gradients to flow\n",
      "into the labels input on backprop by default.\n",
      "\n",
      "See @{tf.nn.softmax_cross_entropy_with_logits_v2}.\n",
      "\n",
      "WARNING:tensorflow:From <ipython-input-3-b0b9bab96d41>:3: arg_max (from tensorflow.python.ops.gen_math_ops) is deprecated and will be removed in a future version.\n",
      "Instructions for updating:\n",
      "Use `argmax` instead\n"
     ]
    }
   ],
   "source": [
    "loss_function = tf.reduce_mean(\n",
    "    tf.nn.softmax_cross_entropy_with_logits(logits=forward, labels=y))\n",
    "correct_prediction = tf.equal(tf.arg_max(pred, 1), tf.arg_max(y, 1))\n",
    "accuracy = tf.reduce_mean(tf.cast(correct_prediction, tf.float32))"
   ]
  },
  {
   "cell_type": "code",
   "execution_count": 4,
   "metadata": {
    "collapsed": true
   },
   "outputs": [],
   "source": [
    "ckpt_dir = './ckpt_dir/'\n",
    "if not os.path.exists(ckpt_dir):\n",
    "    os.makedirs(ckpt_dir)"
   ]
  },
  {
   "cell_type": "code",
   "execution_count": 5,
   "metadata": {},
   "outputs": [
    {
     "name": "stdout",
     "output_type": "stream",
     "text": [
      "INFO:tensorflow:Restoring parameters from ./ckpt_dir/mnist_h256_h32_model.ckpt\n"
     ]
    }
   ],
   "source": [
    "saver = tf.train.Saver()\n",
    "\n",
    "sess = tf.Session()\n",
    "init = tf.global_variables_initializer()\n",
    "sess.run(init)\n",
    "\n",
    "\n",
    "ckpt = tf.train.get_checkpoint_state(ckpt_dir)\n",
    "if ckpt and ckpt.model_checkpoint_path:\n",
    "    saver.restore(sess, ckpt.model_checkpoint_path)\n"
   ]
  },
  {
   "cell_type": "code",
   "execution_count": 6,
   "metadata": {},
   "outputs": [
    {
     "name": "stdout",
     "output_type": "stream",
     "text": [
      "Accuracy: 0.9701\n"
     ]
    }
   ],
   "source": [
    "print(\"Accuracy:\", accuracy.eval(session=sess,\n",
    "                                feed_dict={x: mnist.test.images, y: mnist.test.labels}))"
   ]
  },
  {
   "cell_type": "code",
   "execution_count": 7,
   "metadata": {
    "collapsed": true
   },
   "outputs": [],
   "source": [
    "train_epochs = 30\n",
    "batch_size = 50\n",
    "total_batch = int(mnist.train.num_examples / batch_size)\n",
    "display_step = 2\n",
    "learning_rate = 0.01\n",
    "save_step = 5"
   ]
  },
  {
   "cell_type": "code",
   "execution_count": 8,
   "metadata": {
    "collapsed": true
   },
   "outputs": [],
   "source": [
    "optimizer = tf.train.AdamOptimizer(learning_rate).minimize(loss_function)"
   ]
  },
  {
   "cell_type": "code",
   "execution_count": 9,
   "metadata": {
    "collapsed": true
   },
   "outputs": [],
   "source": [
    "image_shaped_input = tf.reshape(x, [-1, 28, 28, 1])\n",
    "tf.summary.image('input', image_shaped_input, 10)\n",
    "tf.summary.histogram('forward', forward)\n",
    "tf.summary.scalar('loss', loss_function)\n",
    "tf.summary.scalar('accuracy', accuracy)\n",
    "merged_summary_op = tf.summary.merge_all()\n",
    "writer = tf.summary.FileWriter('log/', sess.graph)"
   ]
  },
  {
   "cell_type": "code",
   "execution_count": 10,
   "metadata": {},
   "outputs": [
    {
     "name": "stdout",
     "output_type": "stream",
     "text": [
      "Train Epoch 02: Loss=0.130917773 Accuracy=0.9668\n",
      "Train Epoch 04: Loss=0.122820973 Accuracy=0.9672\n",
      "mnist_h256_h32_model_000005.ckpt saved\n",
      "Train Epoch 06: Loss=0.151775658 Accuracy=0.9688\n",
      "Train Epoch 08: Loss=0.174026921 Accuracy=0.9662\n",
      "Train Epoch 10: Loss=0.173033625 Accuracy=0.9700\n",
      "mnist_h256_h32_model_000010.ckpt saved\n",
      "Train Epoch 12: Loss=0.156657591 Accuracy=0.9702\n",
      "Train Epoch 14: Loss=0.142144710 Accuracy=0.9754\n",
      "mnist_h256_h32_model_000015.ckpt saved\n",
      "Train Epoch 16: Loss=0.175115019 Accuracy=0.9718\n",
      "Train Epoch 18: Loss=0.152758017 Accuracy=0.9726\n",
      "Train Epoch 20: Loss=0.264420480 Accuracy=0.9674\n",
      "mnist_h256_h32_model_000020.ckpt saved\n",
      "Train Epoch 22: Loss=0.245184124 Accuracy=0.9704\n",
      "Train Epoch 24: Loss=0.214590997 Accuracy=0.9740\n",
      "mnist_h256_h32_model_000025.ckpt saved\n",
      "Train Epoch 26: Loss=0.253699601 Accuracy=0.9760\n",
      "Train Epoch 28: Loss=0.317332357 Accuracy=0.9734\n",
      "Train Epoch 30: Loss=0.292354733 Accuracy=0.9746\n",
      "mnist_h256_h32_model_000030.ckpt saved\n",
      "Model saved!\n",
      "Train Finished takes:206.64\n"
     ]
    }
   ],
   "source": [
    "from time import time\n",
    "\n",
    "startTime = time()\n",
    "init = tf.global_variables_initializer()\n",
    "sess.run(init)\n",
    "\n",
    "for epoch in range(train_epochs):\n",
    "    for batch in range(total_batch):\n",
    "        xs, ys = mnist.train.next_batch(batch_size)\n",
    "        sess.run(optimizer, feed_dict={x:xs, y:ys})\n",
    "        summary_str = sess.run(merged_summary_op, feed_dict={x:xs, y:ys})\n",
    "        writer.add_summary(summary_str, epoch)\n",
    "        \n",
    "    loss, acc = sess.run([loss_function, accuracy],\n",
    "                        feed_dict={x:mnist.validation.images,\n",
    "                                  y:mnist.validation.labels})\n",
    "    if (epoch+1) % display_step == 0:\n",
    "        print(\"Train Epoch %02d: Loss=%.9f Accuracy=%.4f\" % (epoch+1, loss, acc))\n",
    "        \n",
    "    if (epoch+1) % save_step == 0:\n",
    "        saver.save(sess, os.path.join(ckpt_dir, 'mnist_h256_h32_model_{:06d}.ckpt'.format(epoch+1)))\n",
    "        print('mnist_h256_h32_model_{:06d}.ckpt saved'.format(epoch+1))\n",
    "saver.save(sess, os.path.join(ckpt_dir,'mnist_h256_h32_model.ckpt'))\n",
    "print(\"Model saved!\")\n",
    "           \n",
    "duration = time() - startTime\n",
    "print(\"Train Finished takes:%.2f\" % duration)"
   ]
  },
  {
   "cell_type": "code",
   "execution_count": 11,
   "metadata": {},
   "outputs": [
    {
     "name": "stdout",
     "output_type": "stream",
     "text": [
      "Test Accuracy: 0.9741\n"
     ]
    }
   ],
   "source": [
    "accu_test = sess.run(accuracy, feed_dict={x: mnist.test.images,\n",
    "                                          y: mnist.test.labels})\n",
    "print(\"Test Accuracy:\", accu_test)"
   ]
  },
  {
   "cell_type": "code",
   "execution_count": null,
   "metadata": {
    "collapsed": true
   },
   "outputs": [],
   "source": []
  }
 ],
 "metadata": {
  "kernelspec": {
   "display_name": "Python 3",
   "language": "python",
   "name": "python3"
  },
  "language_info": {
   "codemirror_mode": {
    "name": "ipython",
    "version": 3
   },
   "file_extension": ".py",
   "mimetype": "text/x-python",
   "name": "python",
   "nbconvert_exporter": "python",
   "pygments_lexer": "ipython3",
   "version": "3.6.1"
  }
 },
 "nbformat": 4,
 "nbformat_minor": 2
}
